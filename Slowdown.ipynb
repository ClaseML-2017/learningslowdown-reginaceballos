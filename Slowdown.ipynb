{
 "cells": [
  {
   "cell_type": "markdown",
   "metadata": {},
   "source": [
    "# The Slowdown Problem\n",
    "Regina Ceballos Mondragón\n",
    "\n",
    "147663"
   ]
  },
  {
   "cell_type": "code",
   "execution_count": 1,
   "metadata": {},
   "outputs": [],
   "source": [
    "import tensorflow as tf\n",
    "import matplotlib.pyplot as plt\n",
    "import numpy as np\n",
    "from sklearn.model_selection import train_test_split\n",
    "from sklearn import linear_model\n",
    "from sklearn import preprocessing\n",
    "from sklearn.metrics import confusion_matrix"
   ]
  },
  {
   "cell_type": "markdown",
   "metadata": {},
   "source": [
    "## Data Creation and Model Training\n",
    "For this exercise, I will use the same neural network for the data inside and outside a circle as we already know it works. I will compare the weights in the hidden layers and in the output layer. The slowdown problem with this network will cause the first hidden layer to have a smaller learning rate. "
   ]
  },
  {
   "cell_type": "code",
   "execution_count": 2,
   "metadata": {},
   "outputs": [],
   "source": [
    "n = 1000\n",
    "X1 = np.resize(np.random.uniform(-2, 2, n), (n,1))\n",
    "X2 = np.resize(np.random.uniform(-2, 2, n), (n,1))"
   ]
  },
  {
   "cell_type": "code",
   "execution_count": 3,
   "metadata": {},
   "outputs": [],
   "source": [
    "def circ(X1, X2):\n",
    "    if X1*X1 + X2*X2 < 1:\n",
    "        return 1\n",
    "    else:\n",
    "        return 0"
   ]
  },
  {
   "cell_type": "code",
   "execution_count": 4,
   "metadata": {},
   "outputs": [],
   "source": [
    "X = np.concatenate((X1, X2), axis = 1)\n",
    "Y = np.resize([circ(X1[i], X2[i]) for i in range(len(X1))], (n,1))"
   ]
  },
  {
   "cell_type": "markdown",
   "metadata": {},
   "source": [
    "## Sigmoid"
   ]
  },
  {
   "cell_type": "code",
   "execution_count": 5,
   "metadata": {},
   "outputs": [],
   "source": [
    "x = tf.placeholder(tf.float32, [None, 2])\n",
    "y = tf.placeholder(tf.float32, [None, 1])\n",
    "W1 = tf.Variable(tf.random_uniform([2, 3], -1, 1))\n",
    "b1 = tf.Variable(tf.zeros([1, 3]))\n",
    "W2 = tf.Variable(tf.random_uniform([3, 3], -1, 1))\n",
    "b2 = tf.Variable(tf.zeros([1, 3]))\n",
    "W3 = tf.Variable(tf.random_uniform([3, 1], -1, 1))\n",
    "b3 = tf.Variable(tf.zeros([1, 1]))"
   ]
  },
  {
   "cell_type": "code",
   "execution_count": 6,
   "metadata": {},
   "outputs": [],
   "source": [
    "h = tf.nn.sigmoid(tf.matmul(x, W1) + b1)\n",
    "h1 = tf.nn.sigmoid(tf.matmul(h, W2) + b2)\n",
    "yhat = tf.nn.sigmoid(tf.matmul(h1, W3) + b3)\n",
    "ecm = tf.reduce_mean(tf.reduce_sum(tf.square(y - yhat)))\n",
    "train_step = tf.train.GradientDescentOptimizer(0.03).minimize(ecm)"
   ]
  },
  {
   "cell_type": "markdown",
   "metadata": {},
   "source": [
    "In each training step, I will save the first element of the weights of each layer and after the training is completed, I will compare the rate of change of the weights."
   ]
  },
  {
   "cell_type": "code",
   "execution_count": 7,
   "metadata": {},
   "outputs": [],
   "source": [
    "w1 = []\n",
    "w2 = []\n",
    "w3 = []\n",
    "sess = tf.InteractiveSession()\n",
    "tf.global_variables_initializer().run()\n",
    "for k in range(1000):\n",
    "    sess.run(train_step, feed_dict={x: X, y: Y})\n",
    "    w1.append(sess.run(W1[0, 0]))\n",
    "    w2.append(sess.run(W2[0, 0]))\n",
    "    w3.append(sess.run(W3[0, 0]))"
   ]
  },
  {
   "cell_type": "code",
   "execution_count": 8,
   "metadata": {},
   "outputs": [],
   "source": [
    "w1 = np.resize(w1, (1000, 1))\n",
    "w2 = np.resize(w2, (1000, 1))\n",
    "w3 = np.resize(w3, (1000, 1))"
   ]
  },
  {
   "cell_type": "code",
   "execution_count": 9,
   "metadata": {},
   "outputs": [],
   "source": [
    "cw1 = w1[0:999] - w1[1:1000]\n",
    "cw2 = w2[0:999] - w2[1:1000]\n",
    "cw3 = w3[0:999] - w3[1:1000]\n",
    "cpw1 = np.mean(cw1, axis=0)\n",
    "cpw2 = np.mean(cw2, axis=0)\n",
    "cpw3 = np.mean(cw3, axis=0)"
   ]
  },
  {
   "cell_type": "code",
   "execution_count": 10,
   "metadata": {},
   "outputs": [
    {
     "data": {
      "image/png": "[encoded data removed]",
      "text/plain": [
       "<matplotlib.figure.Figure at 0x1056983d0>"
      ]
     },
     "metadata": {},
     "output_type": "display_data"
    }
   ],
   "source": [
    "plt.plot([i for i in range(1000)], w1, c='red')\n",
    "plt.plot([i for i in range(1000)], w2, c='blue')\n",
    "plt.plot([i for i in range(1000)], w3, c='green')\n",
    "plt.show()"
   ]
  },
  {
   "cell_type": "code",
   "execution_count": 11,
   "metadata": {
    "scrolled": true
   },
   "outputs": [
    {
     "data": {
      "image/png": "[encoded data removed]",
      "text/plain": [
       "<matplotlib.figure.Figure at 0x114bbf910>"
      ]
     },
     "metadata": {},
     "output_type": "display_data"
    }
   ],
   "source": [
    "plt.plot([i for i in range(999)], [cpw1 for i in range(999)], c='red')\n",
    "plt.plot([i for i in range(999)], [cpw2 for i in range(999)], c='blue')\n",
    "plt.plot([i for i in range(999)], [cpw3 for i in range(999)], c='green')\n",
    "plt.show()"
   ]
  },
  {
   "cell_type": "markdown",
   "metadata": {},
   "source": [
    "The graphs above show weigths in each iteration and the average change of the weights. The red line correponds to the  first hidden layer. Clearly, the first hidden layer has a much slower learning rate than the rest of the layers."
   ]
  },
  {
   "cell_type": "markdown",
   "metadata": {},
   "source": [
    "## Tanh"
   ]
  },
  {
   "cell_type": "code",
   "execution_count": 12,
   "metadata": {},
   "outputs": [],
   "source": [
    "h = tf.nn.tanh(tf.matmul(x, W1) + b1)\n",
    "h1 = tf.nn.tanh(tf.matmul(h, W2) + b2)\n",
    "yhat = tf.nn.tanh(tf.matmul(h1, W3) + b3)\n",
    "ecm = tf.reduce_mean(tf.reduce_sum(tf.square(y - yhat)))\n",
    "train_step = tf.train.GradientDescentOptimizer(0.03).minimize(ecm)"
   ]
  },
  {
   "cell_type": "code",
   "execution_count": 13,
   "metadata": {},
   "outputs": [],
   "source": [
    "w1 = []\n",
    "w2 = []\n",
    "w3 = []\n",
    "sess = tf.InteractiveSession()\n",
    "tf.global_variables_initializer().run()\n",
    "for k in range(1000):\n",
    "    sess.run(train_step, feed_dict={x: X, y: Y})\n",
    "    w1.append(sess.run(W1[0, 0]))\n",
    "    w2.append(sess.run(W2[0, 0]))\n",
    "    w3.append(sess.run(W3[0, 0]))"
   ]
  },
  {
   "cell_type": "code",
   "execution_count": 14,
   "metadata": {},
   "outputs": [],
   "source": [
    "w1 = np.resize(w1, (1000, 1))\n",
    "w2 = np.resize(w2, (1000, 1))\n",
    "w3 = np.resize(w3, (1000, 1))"
   ]
  },
  {
   "cell_type": "code",
   "execution_count": 15,
   "metadata": {},
   "outputs": [],
   "source": [
    "cw1 = w1[0:999] - w1[1:1000]\n",
    "cw2 = w2[0:999] - w2[1:1000]\n",
    "cw3 = w3[0:999] - w3[1:1000]\n",
    "cpw1 = np.mean(cw1, axis=0)\n",
    "cpw2 = np.mean(cw2, axis=0)\n",
    "cpw3 = np.mean(cw3, axis=0)"
   ]
  },
  {
   "cell_type": "code",
   "execution_count": 25,
   "metadata": {},
   "outputs": [
    {
     "data": {
      "image/png": "[encoded data removed]",
      "text/plain": [
       "<matplotlib.figure.Figure at 0x14b50a310>"
      ]
     },
     "metadata": {},
     "output_type": "display_data"
    }
   ],
   "source": [
    "plt.plot([i for i in range(1000)], w1, c='red')\n",
    "plt.plot([i for i in range(1000)], w2, c='blue')\n",
    "plt.plot([i for i in range(1000)], w3, c='green')\n",
    "plt.show()"
   ]
  },
  {
   "cell_type": "code",
   "execution_count": 17,
   "metadata": {
    "scrolled": true
   },
   "outputs": [
    {
     "data": {
      "image/png": "[encoded data removed]",
      "text/plain": [
       "<matplotlib.figure.Figure at 0x114b44e50>"
      ]
     },
     "metadata": {},
     "output_type": "display_data"
    }
   ],
   "source": [
    "plt.plot([i for i in range(999)], [cpw1 for i in range(999)], c='red')\n",
    "plt.plot([i for i in range(999)], [cpw2 for i in range(999)], c='blue')\n",
    "plt.plot([i for i in range(999)], [cpw3 for i in range(999)], c='green')\n",
    "plt.show()"
   ]
  },
  {
   "cell_type": "markdown",
   "metadata": {},
   "source": [
    "With this activation function, there is no change in the variables"
   ]
  },
  {
   "cell_type": "markdown",
   "metadata": {},
   "source": [
    "## ReLu"
   ]
  },
  {
   "cell_type": "code",
   "execution_count": 18,
   "metadata": {},
   "outputs": [],
   "source": [
    "h = tf.nn.relu(tf.matmul(x, W1) + b1)\n",
    "h1 = tf.nn.relu(tf.matmul(h, W2) + b2)\n",
    "yhat = tf.nn.relu(tf.matmul(h1, W3) + b3)\n",
    "ecm = tf.reduce_mean(tf.reduce_sum(tf.square(y - yhat)))\n",
    "train_step = tf.train.GradientDescentOptimizer(0.03).minimize(ecm)"
   ]
  },
  {
   "cell_type": "code",
   "execution_count": 19,
   "metadata": {},
   "outputs": [],
   "source": [
    "w1 = []\n",
    "w2 = []\n",
    "w3 = []\n",
    "sess = tf.InteractiveSession()\n",
    "tf.global_variables_initializer().run()\n",
    "for k in range(1000):\n",
    "    sess.run(train_step, feed_dict={x: X, y: Y})\n",
    "    w1.append(sess.run(W1[0, 0]))\n",
    "    w2.append(sess.run(W2[0, 0]))\n",
    "    w3.append(sess.run(W3[0, 0]))"
   ]
  },
  {
   "cell_type": "code",
   "execution_count": 20,
   "metadata": {},
   "outputs": [],
   "source": [
    "w1 = np.resize(w1, (1000, 1))\n",
    "w2 = np.resize(w2, (1000, 1))\n",
    "w3 = np.resize(w3, (1000, 1))"
   ]
  },
  {
   "cell_type": "code",
   "execution_count": 21,
   "metadata": {},
   "outputs": [],
   "source": [
    "cw1 = w1[0:999] - w1[1:1000]\n",
    "cw2 = w2[0:999] - w2[1:1000]\n",
    "cw3 = w3[0:999] - w3[1:1000]\n",
    "cpw1 = np.mean(cw1, axis=0)\n",
    "cpw2 = np.mean(cw2, axis=0)\n",
    "cpw3 = np.mean(cw3, axis=0)"
   ]
  },
  {
   "cell_type": "code",
   "execution_count": 22,
   "metadata": {},
   "outputs": [
    {
     "data": {
      "image/png": "[encoded data removed]",
      "text/plain": [
       "<matplotlib.figure.Figure at 0x14c5209d0>"
      ]
     },
     "metadata": {},
     "output_type": "display_data"
    }
   ],
   "source": [
    "plt.plot([i for i in range(1000)], w1, c='red')\n",
    "plt.plot([i for i in range(1000)], w2, c='blue')\n",
    "plt.plot([i for i in range(1000)], w3, c='green')\n",
    "plt.show()"
   ]
  },
  {
   "cell_type": "code",
   "execution_count": 23,
   "metadata": {
    "scrolled": true
   },
   "outputs": [
    {
     "data": {
      "image/png": "[encoded data removed]",
      "text/plain": [
       "<matplotlib.figure.Figure at 0x14a91bed0>"
      ]
     },
     "metadata": {},
     "output_type": "display_data"
    }
   ],
   "source": [
    "plt.plot([i for i in range(999)], [cpw1 for i in range(999)], c='red')\n",
    "plt.plot([i for i in range(999)], [cpw2 for i in range(999)], c='blue')\n",
    "plt.plot([i for i in range(999)], [cpw3 for i in range(999)], c='green')\n",
    "plt.show()"
   ]
  },
  {
   "cell_type": "markdown",
   "metadata": {},
   "source": [
    "With this function also has no change."
   ]
  },
  {
   "cell_type": "code",
   "execution_count": null,
   "metadata": {},
   "outputs": [],
   "source": []
  }
 ],
 "metadata": {
  "kernelspec": {
   "display_name": "Python 2",
   "language": "python",
   "name": "python2"
  },
  "language_info": {
   "codemirror_mode": {
    "name": "ipython",
    "version": 2
   },
   "file_extension": ".py",
   "mimetype": "text/x-python",
   "name": "python",
   "nbconvert_exporter": "python",
   "pygments_lexer": "ipython2",
   "version": "2.7.14"
  }
 },
 "nbformat": 4,
 "nbformat_minor": 2
}
